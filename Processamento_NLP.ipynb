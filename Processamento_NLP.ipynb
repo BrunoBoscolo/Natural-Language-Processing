{
  "nbformat": 4,
  "nbformat_minor": 0,
  "metadata": {
    "colab": {
      "provenance": [],
      "authorship_tag": "ABX9TyMvj/3MzJPs2DChEroMg7A3",
      "include_colab_link": true
    },
    "kernelspec": {
      "name": "python3",
      "display_name": "Python 3"
    },
    "language_info": {
      "name": "python"
    }
  },
  "cells": [
    {
      "cell_type": "markdown",
      "metadata": {
        "id": "view-in-github",
        "colab_type": "text"
      },
      "source": [
        "<a href=\"https://colab.research.google.com/github/BrunoBoscolo/Natural-Language-Processing/blob/main/Processamento_NLP.ipynb\" target=\"_parent\"><img src=\"https://colab.research.google.com/assets/colab-badge.svg\" alt=\"Open In Colab\"/></a>"
      ]
    },
    {
      "cell_type": "markdown",
      "source": [
        "**Instalação de dependências**"
      ],
      "metadata": {
        "id": "Hbrn7AarJ_zV"
      }
    },
    {
      "cell_type": "code",
      "execution_count": 2,
      "metadata": {
        "colab": {
          "base_uri": "https://localhost:8080/"
        },
        "id": "dKEd4fIhJUJE",
        "outputId": "5451fbbb-14ce-4b55-a021-4c370a08a38f"
      },
      "outputs": [
        {
          "output_type": "stream",
          "name": "stdout",
          "text": [
            "Collecting nltk==3.5\n",
            "  Downloading nltk-3.5.zip (1.4 MB)\n",
            "\u001b[2K     \u001b[90m━━━━━━━━━━━━━━━━━━━━━━━━━━━━━━━━━━━━━━━━\u001b[0m \u001b[32m1.4/1.4 MB\u001b[0m \u001b[31m7.2 MB/s\u001b[0m eta \u001b[36m0:00:00\u001b[0m\n",
            "\u001b[?25h  Preparing metadata (setup.py) ... \u001b[?25l\u001b[?25hdone\n",
            "Requirement already satisfied: click in /usr/local/lib/python3.10/dist-packages (from nltk==3.5) (8.1.7)\n",
            "Requirement already satisfied: joblib in /usr/local/lib/python3.10/dist-packages (from nltk==3.5) (1.4.0)\n",
            "Requirement already satisfied: regex in /usr/local/lib/python3.10/dist-packages (from nltk==3.5) (2023.12.25)\n",
            "Requirement already satisfied: tqdm in /usr/local/lib/python3.10/dist-packages (from nltk==3.5) (4.66.2)\n",
            "Building wheels for collected packages: nltk\n",
            "  Building wheel for nltk (setup.py) ... \u001b[?25l\u001b[?25hdone\n",
            "  Created wheel for nltk: filename=nltk-3.5-py3-none-any.whl size=1434680 sha256=b5141f6f68737fe14ddaaab49e4847800f0679bf3368e823574e081a279b160a\n",
            "  Stored in directory: /root/.cache/pip/wheels/35/ab/82/f9667f6f884d272670a15382599a9c753a1dfdc83f7412e37d\n",
            "Successfully built nltk\n",
            "Installing collected packages: nltk\n",
            "  Attempting uninstall: nltk\n",
            "    Found existing installation: nltk 3.8.1\n",
            "    Uninstalling nltk-3.8.1:\n",
            "      Successfully uninstalled nltk-3.8.1\n",
            "Successfully installed nltk-3.5\n"
          ]
        }
      ],
      "source": [
        "!pip install nltk==3.5"
      ]
    },
    {
      "cell_type": "code",
      "source": [
        "!pip install numpy matplotlib"
      ],
      "metadata": {
        "colab": {
          "base_uri": "https://localhost:8080/"
        },
        "id": "ai-dM10EJpsr",
        "outputId": "83fb760f-da6c-4b5e-81ff-78a98886a932"
      },
      "execution_count": 3,
      "outputs": [
        {
          "output_type": "stream",
          "name": "stdout",
          "text": [
            "Requirement already satisfied: numpy in /usr/local/lib/python3.10/dist-packages (1.25.2)\n",
            "Requirement already satisfied: matplotlib in /usr/local/lib/python3.10/dist-packages (3.7.1)\n",
            "Requirement already satisfied: contourpy>=1.0.1 in /usr/local/lib/python3.10/dist-packages (from matplotlib) (1.2.1)\n",
            "Requirement already satisfied: cycler>=0.10 in /usr/local/lib/python3.10/dist-packages (from matplotlib) (0.12.1)\n",
            "Requirement already satisfied: fonttools>=4.22.0 in /usr/local/lib/python3.10/dist-packages (from matplotlib) (4.51.0)\n",
            "Requirement already satisfied: kiwisolver>=1.0.1 in /usr/local/lib/python3.10/dist-packages (from matplotlib) (1.4.5)\n",
            "Requirement already satisfied: packaging>=20.0 in /usr/local/lib/python3.10/dist-packages (from matplotlib) (24.0)\n",
            "Requirement already satisfied: pillow>=6.2.0 in /usr/local/lib/python3.10/dist-packages (from matplotlib) (9.4.0)\n",
            "Requirement already satisfied: pyparsing>=2.3.1 in /usr/local/lib/python3.10/dist-packages (from matplotlib) (3.1.2)\n",
            "Requirement already satisfied: python-dateutil>=2.7 in /usr/local/lib/python3.10/dist-packages (from matplotlib) (2.8.2)\n",
            "Requirement already satisfied: six>=1.5 in /usr/local/lib/python3.10/dist-packages (from python-dateutil>=2.7->matplotlib) (1.16.0)\n"
          ]
        }
      ]
    },
    {
      "cell_type": "code",
      "source": [
        "import matplotlib"
      ],
      "metadata": {
        "id": "0EODvuqexhm1"
      },
      "execution_count": 24,
      "outputs": []
    },
    {
      "cell_type": "markdown",
      "source": [
        "**Tokenização da linguagem e filtragem inicial**"
      ],
      "metadata": {
        "id": "KloREm2yJ0Cz"
      }
    },
    {
      "cell_type": "code",
      "source": [
        "from nltk.tokenize import sent_tokenize, word_tokenize #Tokenização por palavra e tokenização por sentença\n",
        "from nltk.corpus import stopwords\n",
        "import nltk\n",
        "\n",
        "nltk.download('stopwords')\n",
        "\n",
        "stop_words = set(stopwords.words(\"english\")) #Palavras em inglês a serem ignoradas\n",
        "\n",
        "worf_quote = \"Sir, I protest. I am not a merry man!\" #Frase a ser utilizada como exemplo\n",
        "words_in_quote = word_tokenize(worf_quote) #Tokenização por palavra\n",
        "\n",
        "filtered_list = [\n",
        "    word for word in words_in_quote if word.casefold() not in stop_words #Itera entre as palavras e filtra as 'stop-words'\n",
        "]\n",
        "\n",
        "print(filtered_list)"
      ],
      "metadata": {
        "colab": {
          "base_uri": "https://localhost:8080/"
        },
        "id": "q3Yeo7npKII9",
        "outputId": "f8f9deb8-2559-4309-916f-c51f5e70802e"
      },
      "execution_count": 12,
      "outputs": [
        {
          "output_type": "stream",
          "name": "stdout",
          "text": [
            "['Sir', ',', 'protest', '.', 'merry', 'man', '!']\n"
          ]
        },
        {
          "output_type": "stream",
          "name": "stderr",
          "text": [
            "[nltk_data] Downloading package stopwords to /root/nltk_data...\n",
            "[nltk_data]   Package stopwords is already up-to-date!\n"
          ]
        }
      ]
    },
    {
      "cell_type": "markdown",
      "source": [
        "**Afunelamento**"
      ],
      "metadata": {
        "id": "dyP1u2mQPRIC"
      }
    },
    {
      "cell_type": "code",
      "source": [
        "from nltk.stem import PorterStemmer #Converte as palavras para seu radical, \"Ajudar = ajuda\", \"Helping = Help\"\n",
        "from nltk.tokenize import word_tokenize\n",
        "\n",
        "nltk.download('punkt')\n",
        "\n",
        "stemmer = PorterStemmer()\n",
        "\n",
        "string_for_stemming = \"\"\"\n",
        "The crew of the USS Discovery discovered many discoveries.\n",
        "Discovering is what explorers do.\"\"\"\n",
        "\n",
        "words = word_tokenize(string_for_stemming)\n",
        "\n",
        "stemmed_words = [stemmer.stem(word) for word in words]\n",
        "print(stemmed_words)"
      ],
      "metadata": {
        "colab": {
          "base_uri": "https://localhost:8080/"
        },
        "id": "FsjxPTUoRNMh",
        "outputId": "2629e30c-f835-467f-ca1a-e09b13780bab"
      },
      "execution_count": 14,
      "outputs": [
        {
          "output_type": "stream",
          "name": "stdout",
          "text": [
            "['the', 'crew', 'of', 'the', 'uss', 'discoveri', 'discov', 'mani', 'discoveri', '.', 'discov', 'is', 'what', 'explor', 'do', '.']\n"
          ]
        },
        {
          "output_type": "stream",
          "name": "stderr",
          "text": [
            "[nltk_data] Downloading package punkt to /root/nltk_data...\n",
            "[nltk_data]   Package punkt is already up-to-date!\n"
          ]
        }
      ]
    },
    {
      "cell_type": "markdown",
      "source": [
        "**Classificação das palavras**\n"
      ],
      "metadata": {
        "id": "t3tGq_8tTiGd"
      }
    },
    {
      "cell_type": "code",
      "source": [
        "from nltk.tokenize import word_tokenize\n",
        "import nltk\n",
        "\n",
        "sagan_quote = \"\"\"\n",
        "If you wish to make an apple pie from scratch,\n",
        "you must first invent the universe.\"\"\"\n",
        "\n",
        "words_in_sagan_quote = word_tokenize(sagan_quote)\n",
        "\n",
        "words_classified = nltk.pos_tag(words_in_sagan_quote) #Classifica as palavras em suas respectivas categorias sintáticas\n",
        "\n",
        "print(words_classified)"
      ],
      "metadata": {
        "colab": {
          "base_uri": "https://localhost:8080/"
        },
        "id": "PZxWv_53UPUW",
        "outputId": "044a1827-d508-4283-ed9e-f5cec5234cc9"
      },
      "execution_count": 16,
      "outputs": [
        {
          "output_type": "stream",
          "name": "stdout",
          "text": [
            "[('If', 'IN'), ('you', 'PRP'), ('wish', 'VBP'), ('to', 'TO'), ('make', 'VB'), ('an', 'DT'), ('apple', 'NN'), ('pie', 'NN'), ('from', 'IN'), ('scratch', 'NN'), (',', ','), ('you', 'PRP'), ('must', 'MD'), ('first', 'VB'), ('invent', 'VB'), ('the', 'DT'), ('universe', 'NN'), ('.', '.')]\n"
          ]
        }
      ]
    },
    {
      "cell_type": "code",
      "source": [],
      "metadata": {
        "id": "RePgq7WeZ4O8"
      },
      "execution_count": null,
      "outputs": []
    },
    {
      "cell_type": "markdown",
      "source": [
        "**Lematização**"
      ],
      "metadata": {
        "id": "eiasXhczZ2uR"
      }
    },
    {
      "cell_type": "code",
      "source": [
        "from nltk.stem import WordNetLemmatizer #Método semelhante para obter o radical de palavras\n",
        "\n",
        "lemmatizer = WordNetLemmatizer()\n",
        "\n",
        "lemmatizer.lemmatize(\"scarves\")\n",
        "\n",
        "string_for_lemmatizing = \"The friends of DeSoto love scarves.\"\n",
        "\n",
        "words = word_tokenize(string_for_lemmatizing)\n",
        "\n",
        "lemmatized_words = [lemmatizer.lemmatize(word) for word in words]\n",
        "\n",
        "print(lemmatized_words)"
      ],
      "metadata": {
        "colab": {
          "base_uri": "https://localhost:8080/"
        },
        "id": "4bW8LJhqdzLi",
        "outputId": "e12eafeb-7578-494e-b446-66988eb48227"
      },
      "execution_count": 17,
      "outputs": [
        {
          "output_type": "stream",
          "name": "stdout",
          "text": [
            "['The', 'friend', 'of', 'DeSoto', 'love', 'scarf', '.']\n"
          ]
        }
      ]
    },
    {
      "cell_type": "markdown",
      "source": [
        "**Chunking**"
      ],
      "metadata": {
        "id": "-EWZKedWetTk"
      }
    },
    {
      "cell_type": "code",
      "source": [
        "from nltk.tokenize import word_tokenize # Tokenização detecta palavras, Chunking detecta frases, baseando-se na estrutura gramatical do inglês\n",
        "\n",
        "lotr_quote = \"It's a dangerous business, Frodo, going out your door.\"\n",
        "\n",
        "words_in_lotr_quote = word_tokenize(lotr_quote)\n",
        "\n",
        "nltk.download(\"averaged_perceptron_tagger\")\n",
        "lotr_pos_tags = nltk.pos_tag(words_in_lotr_quote)\n",
        "\n",
        "grammar = \"NP: {<DT>?<JJ>*<NN>}\"\n",
        "\n",
        "chunk_parser = nltk.RegexpParser(grammar)\n",
        "tree = chunk_parser.parse(lotr_pos_tags)\n",
        "#tree.draw()"
      ],
      "metadata": {
        "colab": {
          "base_uri": "https://localhost:8080/"
        },
        "id": "ZzAVnTZeevZA",
        "outputId": "b2372831-e407-4aa5-9782-e2e67e2fbdc6"
      },
      "execution_count": 21,
      "outputs": [
        {
          "output_type": "stream",
          "name": "stderr",
          "text": [
            "[nltk_data] Downloading package averaged_perceptron_tagger to\n",
            "[nltk_data]     /root/nltk_data...\n",
            "[nltk_data]   Package averaged_perceptron_tagger is already up-to-\n",
            "[nltk_data]       date!\n"
          ]
        }
      ]
    },
    {
      "cell_type": "markdown",
      "source": [
        "**Chinking**"
      ],
      "metadata": {
        "id": "WPvL6kwlf0J-"
      }
    },
    {
      "cell_type": "code",
      "source": [
        "grammar = \"\"\"\n",
        "Chunk: {<.*>+}\n",
        "       }<JJ>{\"\"\" #Chinking Exclui padrões sintáticos\n",
        "\n",
        "chunk_parser = nltk.RegexpParser(grammar)\n",
        "\n",
        "tree = chunk_parser.parse(lotr_pos_tags)\n",
        "\n",
        "#tree.draw()"
      ],
      "metadata": {
        "id": "-uzBS0E_f2l0"
      },
      "execution_count": null,
      "outputs": []
    },
    {
      "cell_type": "markdown",
      "source": [
        "**Named Entity Recognition**"
      ],
      "metadata": {
        "id": "yPTa31T5uaXX"
      }
    },
    {
      "cell_type": "code",
      "source": [
        "nltk.download(\"maxent_ne_chunker\")\n",
        "nltk.download(\"words\")\n",
        "tree = nltk.ne_chunk(lotr_pos_tags)\n",
        "#tree.draw()\n",
        "print(tree)\n",
        "#or\n",
        "\n",
        "tree = nltk.ne_chunk(lotr_pos_tags, binary=True)\n",
        "#tree.draw()\n",
        "\n",
        "#ex...\n",
        "\n",
        "quote = \"\"\"\n",
        "Men like Schiaparelli watched the red planet—it is odd, by-the-bye, that\n",
        "for countless centuries Mars has been the star of war—but failed to\n",
        "interpret the fluctuating appearances of the markings they mapped so well.\n",
        "All that time the Martians must have been getting ready.\n",
        "\n",
        "During the opposition of 1894 a great light was seen on the illuminated\n",
        "part of the disk, first at the Lick Observatory, then by Perrotin of Nice,\n",
        "and then by other observers. English readers heard of it first in the\n",
        "issue of Nature dated August 2.\"\"\"\n",
        "\n",
        "def extract_ne(quote): #Extrai todas as entidades entituladas, excluindo repetição\n",
        "    words = word_tokenize(quote, language=language)\n",
        "    tags = nltk.pos_tag(words)\n",
        "    tree = nltk.ne_chunk(tags, binary=True)\n",
        "    return set(\n",
        "        \" \".join(i[0] for i in t)\n",
        "        for t in tree\n",
        "        if hasattr(t, \"label\") and t.label() == \"NE\"\n",
        "    )"
      ],
      "metadata": {
        "colab": {
          "base_uri": "https://localhost:8080/"
        },
        "id": "Nydg8SNqudiY",
        "outputId": "b8a335a3-3abb-4aaf-b44e-52f66d25e6b5"
      },
      "execution_count": 26,
      "outputs": [
        {
          "output_type": "stream",
          "name": "stdout",
          "text": [
            "(S\n",
            "  It/PRP\n",
            "  's/VBZ\n",
            "  a/DT\n",
            "  dangerous/JJ\n",
            "  business/NN\n",
            "  ,/,\n",
            "  (PERSON Frodo/NNP)\n",
            "  ,/,\n",
            "  going/VBG\n",
            "  out/RP\n",
            "  your/PRP$\n",
            "  door/NN\n",
            "  ./.)\n"
          ]
        },
        {
          "output_type": "stream",
          "name": "stderr",
          "text": [
            "[nltk_data] Downloading package maxent_ne_chunker to\n",
            "[nltk_data]     /root/nltk_data...\n",
            "[nltk_data]   Package maxent_ne_chunker is already up-to-date!\n",
            "[nltk_data] Downloading package words to /root/nltk_data...\n",
            "[nltk_data]   Package words is already up-to-date!\n"
          ]
        }
      ]
    },
    {
      "cell_type": "markdown",
      "source": [
        "**Concordância**"
      ],
      "metadata": {
        "id": "Q7KmKsBPvL50"
      }
    },
    {
      "cell_type": "code",
      "source": [
        "nltk.download(\"book\")\n",
        "from nltk.book import *\n",
        "\n",
        "text8.concordance(\"man\")\n",
        "\n",
        " #Output\n",
        "'''Displaying 14 of 14 matches:\n",
        " to hearing from you all . ABLE young man seeks , sexy older women . Phone for\n",
        "ble relationship . GENUINE ATTRACTIVE MAN 40 y . o ., no ties , secure , 5 ft .\n",
        "ship , and quality times . VIETNAMESE MAN Single , never married , financially\n",
        "ip . WELL DRESSED emotionally healthy man 37 like to meet full figured woman fo\n",
        " nth subs LIKE TO BE MISTRESS of YOUR MAN like to be treated well . Bold DTE no\n",
        "eeks lady in similar position MARRIED MAN 50 , attrac . fit , seeks lady 40 - 5\n",
        "eks nice girl 25 - 30 serious rship . Man 46 attractive fit , assertive , and k\n",
        " 40 - 50 sought by Aussie mid 40s b / man f / ship r / ship LOVE to meet widowe\n",
        "discreet times . Sth E Subs . MARRIED MAN 42yo 6ft , fit , seeks Lady for discr\n",
        "woman , seeks professional , employed man , with interests in theatre , dining\n",
        " tall and of large build seeks a good man . I am a nonsmoker , social drinker ,\n",
        "lead to relationship . SEEKING HONEST MAN I am 41 y . o ., 5 ft . 4 , med . bui\n",
        " quiet times . Seeks 35 - 45 , honest man with good SOH & similar interests , f\n",
        " genuine , caring , honest and normal man for fship , poss rship . S / S , S /'''\n",
        "\n",
        "text8.dispersion_plot(\n",
        "    [\"woman\", \"lady\", \"girl\", \"gal\", \"man\", \"gentleman\", \"boy\", \"guy\"]\n",
        ")"
      ],
      "metadata": {
        "id": "avlvZ08zvZyj"
      },
      "execution_count": null,
      "outputs": []
    },
    {
      "cell_type": "markdown",
      "source": [
        "**Distribuição de frequência**"
      ],
      "metadata": {
        "id": "EIY0wqVb0Xwl"
      }
    },
    {
      "cell_type": "code",
      "source": [
        "frequency_distribution = FreqDist(text8)\n",
        "print(frequency_distribution)\n",
        "\n",
        "frequency_distribution.most_common(20)\n",
        "\n",
        "meaningful_words = [\n",
        "    word for word in text8 if word.casefold() not in stop_words\n",
        "]\n",
        "\n",
        "frequency_distribution = FreqDist(meaningful_words)\n",
        "\n",
        "frequency_distribution.most_common(20)\n",
        "\n",
        "frequency_distribution.plot(20, cumulative=True)"
      ],
      "metadata": {
        "colab": {
          "base_uri": "https://localhost:8080/",
          "height": 552
        },
        "id": "xps7YN-w0dPs",
        "outputId": "66fd3bb3-a0b6-42d9-9559-8e9e59272afb"
      },
      "execution_count": 35,
      "outputs": [
        {
          "output_type": "stream",
          "name": "stdout",
          "text": [
            "<FreqDist with 1108 samples and 4867 outcomes>\n"
          ]
        },
        {
          "output_type": "display_data",
          "data": {
            "text/plain": [
              "<Figure size 640x480 with 1 Axes>"
            ],
            "image/png": "[encoded data removed]"
          },
          "metadata": {}
        },
        {
          "output_type": "execute_result",
          "data": {
            "text/plain": [
              "<Axes: xlabel='Samples', ylabel='Cumulative Counts'>"
            ]
          },
          "metadata": {},
          "execution_count": 35
        }
      ]
    },
    {
      "cell_type": "markdown",
      "source": [
        "**Encontrando colocações sintáticas**"
      ],
      "metadata": {
        "id": "uQGxS3c-1bVs"
      }
    },
    {
      "cell_type": "code",
      "source": [
        "print(text8.collocations())\n",
        "\n",
        "lemmatized_words = [lemmatizer.lemmatize(word) for word in text8]\n",
        "new_text = nltk.Text(lemmatized_words)\n",
        "new_text.collocations()\n",
        "\n",
        "print(new_text)"
      ],
      "metadata": {
        "colab": {
          "base_uri": "https://localhost:8080/"
        },
        "id": "Wb0bcAg41egm",
        "outputId": "97418e5f-080f-4e2f-bd4d-ba63f97cf07d"
      },
      "execution_count": 43,
      "outputs": [
        {
          "output_type": "stream",
          "name": "stdout",
          "text": [
            "would like; medium build; social drinker; quiet nights; non smoker;\n",
            "long term; age open; Would like; easy going; financially secure; fun\n",
            "times; similar interests; Age open; weekends away; poss rship; well\n",
            "presented; never married; single mum; permanent relationship; slim\n",
            "build\n",
            "None\n",
            "medium build; social drinker; non smoker; quiet night; long term;\n",
            "would like; age open; easy going; financially secure; Would like; fun\n",
            "time; similar interest; Age open; weekend away; well presented; never\n",
            "married; single mum; permanent relationship; year old; slim build\n",
            "<Text: 25 SEXY MALE , seek attrac older single...>\n"
          ]
        }
      ]
    }
  ]
}