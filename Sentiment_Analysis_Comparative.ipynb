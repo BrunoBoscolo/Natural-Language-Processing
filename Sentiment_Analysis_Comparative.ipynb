{
  "nbformat": 4,
  "nbformat_minor": 0,
  "metadata": {
    "colab": {
      "provenance": [],
      "authorship_tag": "ABX9TyN5epPUSVOrmqhHJ4p4dMgV",
      "include_colab_link": true
    },
    "kernelspec": {
      "name": "python3",
      "display_name": "Python 3"
    },
    "language_info": {
      "name": "python"
    }
  },
  "cells": [
    {
      "cell_type": "markdown",
      "metadata": {
        "id": "view-in-github",
        "colab_type": "text"
      },
      "source": [
        "<a href=\"https://colab.research.google.com/github/BrunoBoscolo/Natural-Language-Processing/blob/main/Sentiment_Analysis_Comparative.ipynb\" target=\"_parent\"><img src=\"https://colab.research.google.com/assets/colab-badge.svg\" alt=\"Open In Colab\"/></a>"
      ]
    },
    {
      "cell_type": "code",
      "execution_count": null,
      "metadata": {
        "id": "2qdnBIXMJ4eB"
      },
      "outputs": [],
      "source": [
        "!pip install matplotlib pandas nltk textblob"
      ]
    },
    {
      "cell_type": "code",
      "source": [
        "import nltk\n",
        "nltk.download('vader_lexicon')\n",
        "nltk.download('movie_reviews')\n",
        "nltk.download('punkt')"
      ],
      "metadata": {
        "id": "SUQ5alf2KKU0"
      },
      "execution_count": null,
      "outputs": []
    },
    {
      "cell_type": "code",
      "source": [
        "from nltk.sentiment.vader import SentimentIntensityAnalyzer as SIA\n",
        "\n",
        "sia = SIA()\n",
        "sia.polarity_scores(\"This is fucking bad, go fuck yourself\")"
      ],
      "metadata": {
        "colab": {
          "base_uri": "https://localhost:8080/"
        },
        "id": "Etp32z4UKTuh",
        "outputId": "25272098-b118-4b86-e4b4-e96a51038e8b"
      },
      "execution_count": 5,
      "outputs": [
        {
          "output_type": "execute_result",
          "data": {
            "text/plain": [
              "{'neg': 0.602, 'neu': 0.398, 'pos': 0.0, 'compound': -0.8204}"
            ]
          },
          "metadata": {},
          "execution_count": 5
        }
      ]
    },
    {
      "cell_type": "markdown",
      "source": [
        "Segundo método, para fins comparativos"
      ],
      "metadata": {
        "id": "ZU-2s9jbK61e"
      }
    },
    {
      "cell_type": "code",
      "source": [
        "from textblob import TextBlob\n",
        "from textblob import Blobber\n",
        "from textblob.sentiments import NaiveBayesAnalyzer"
      ],
      "metadata": {
        "id": "ju88eROiK-z7"
      },
      "execution_count": 6,
      "outputs": []
    },
    {
      "cell_type": "code",
      "source": [
        "blob = TextBlob(\"This restaurant was great, but I'm not sure if I'll go there again.\")\n",
        "print(blob.sentiment)"
      ],
      "metadata": {
        "colab": {
          "base_uri": "https://localhost:8080/"
        },
        "id": "gT7jF6xWLiWQ",
        "outputId": "77aac251-a22b-41d3-be8d-7c9425508d6e"
      },
      "execution_count": 8,
      "outputs": [
        {
          "output_type": "stream",
          "name": "stdout",
          "text": [
            "Sentiment(polarity=0.275, subjectivity=0.8194444444444444)\n"
          ]
        }
      ]
    },
    {
      "cell_type": "markdown",
      "source": [
        "Terceiro método, para fins comparativos"
      ],
      "metadata": {
        "id": "A4UQEA3SLscw"
      }
    },
    {
      "cell_type": "code",
      "source": [
        "blobber = Blobber(analyzer=NaiveBayesAnalyzer())\n",
        "\n",
        "blob = blobber(\"This restaurant was great, but I'm not sure if I'll go there again.\")\n",
        "print(blob.sentiment)"
      ],
      "metadata": {
        "colab": {
          "base_uri": "https://localhost:8080/"
        },
        "id": "xEnS4gJoL0XR",
        "outputId": "0c86a688-3871-4a04-8e26-e64a7c9b67a3"
      },
      "execution_count": 9,
      "outputs": [
        {
          "output_type": "stream",
          "name": "stdout",
          "text": [
            "Sentiment(classification='pos', p_pos=0.5879425317005774, p_neg=0.41205746829942275)\n"
          ]
        }
      ]
    },
    {
      "cell_type": "markdown",
      "source": [
        "Comparação de resultados - (Treinamentos simplórios)"
      ],
      "metadata": {
        "id": "Ow8rGz6jMOtA"
      }
    },
    {
      "cell_type": "code",
      "source": [
        "tweets = [t.replace(\"://\", \"//\") for t in nltk.corpus.twitter_samples.strings()]\n"
      ],
      "metadata": {
        "id": "jODqMew-NOkY"
      },
      "execution_count": null,
      "outputs": []
    },
    {
      "cell_type": "code",
      "source": [
        "import pandas as pd\n",
        "pd.set_option(\"display.max_colwidth\", 200)\n",
        "\n",
        "tweets = tweets[:200]\n",
        "\n",
        "df = pd.DataFrame(tweets, columns=['Tweet'])"
      ],
      "metadata": {
        "id": "Fn_qWRHWON2s"
      },
      "execution_count": 22,
      "outputs": []
    },
    {
      "cell_type": "code",
      "source": [
        "def get_scores(content):\n",
        "    blob = TextBlob(content)\n",
        "    nb_blob = blobber(content)\n",
        "    sia_scores = sia.polarity_scores(content)\n",
        "\n",
        "    return pd.Series({\n",
        "        'content': content,\n",
        "        'textblob': blob.sentiment.polarity,\n",
        "        'textblob_bayes': nb_blob.sentiment.p_pos - nb_blob.sentiment.p_neg,\n",
        "        'nltk': sia_scores['compound'],\n",
        "    })\n",
        "\n",
        "scores = df.Tweet.apply(get_scores)\n",
        "scores.style.background_gradient(cmap='RdYlGn', axis=None, low=0.4, high=0.4)"
      ],
      "metadata": {
        "colab": {
          "base_uri": "https://localhost:8080/",
          "height": 815
        },
        "id": "oE1zWVrxPg1a",
        "outputId": "2155e1dd-0c34-4cf2-cb86-4ff675f20f7c"
      },
      "execution_count": 25,
      "outputs": [
        {
          "output_type": "execute_result",
          "data": {
            "text/plain": [
              "<pandas.io.formats.style.Styler at 0x7a627767a9e0>"
            ],
            "text/html": [
              "<style type=\"text/css\">\n",
              "#T_8092c_row0_col1, #T_8092c_row3_col1, #T_8092c_row4_col1, #T_8092c_row6_col1, #T_8092c_row9_col1, #T_8092c_row9_col3, #T_8092c_row11_col3, #T_8092c_row13_col3, #T_8092c_row14_col3, #T_8092c_row16_col3, #T_8092c_row19_col1 {\n",
              "  background-color: #fff7b2;\n",
              "  color: #000000;\n",
              "}\n",
              "#T_8092c_row0_col2, #T_8092c_row14_col2 {\n",
              "  background-color: #a0d669;\n",
              "  color: #000000;\n",
              "}\n",
              "#T_8092c_row0_col3 {\n",
              "  background-color: #f67a49;\n",
              "  color: #f1f1f1;\n",
              "}\n",
              "#T_8092c_row1_col1 {\n",
              "  background-color: #fdc574;\n",
              "  color: #000000;\n",
              "}\n",
              "#T_8092c_row1_col2 {\n",
              "  background-color: #fafdb8;\n",
              "  color: #000000;\n",
              "}\n",
              "#T_8092c_row1_col3 {\n",
              "  background-color: #fa9656;\n",
              "  color: #000000;\n",
              "}\n",
              "#T_8092c_row2_col1 {\n",
              "  background-color: #fbfdba;\n",
              "  color: #000000;\n",
              "}\n",
              "#T_8092c_row2_col2, #T_8092c_row3_col2, #T_8092c_row4_col2 {\n",
              "  background-color: #93d168;\n",
              "  color: #000000;\n",
              "}\n",
              "#T_8092c_row2_col3 {\n",
              "  background-color: #fed07e;\n",
              "  color: #000000;\n",
              "}\n",
              "#T_8092c_row3_col3 {\n",
              "  background-color: #fed683;\n",
              "  color: #000000;\n",
              "}\n",
              "#T_8092c_row4_col3, #T_8092c_row7_col2 {\n",
              "  background-color: #c5e67e;\n",
              "  color: #000000;\n",
              "}\n",
              "#T_8092c_row5_col1 {\n",
              "  background-color: #f5fbb2;\n",
              "  color: #000000;\n",
              "}\n",
              "#T_8092c_row5_col2, #T_8092c_row16_col2 {\n",
              "  background-color: #73c264;\n",
              "  color: #000000;\n",
              "}\n",
              "#T_8092c_row5_col3 {\n",
              "  background-color: #afdd70;\n",
              "  color: #000000;\n",
              "}\n",
              "#T_8092c_row6_col2 {\n",
              "  background-color: #feffbe;\n",
              "  color: #000000;\n",
              "}\n",
              "#T_8092c_row6_col3 {\n",
              "  background-color: #fb9d59;\n",
              "  color: #000000;\n",
              "}\n",
              "#T_8092c_row7_col1, #T_8092c_row11_col1 {\n",
              "  background-color: #f1f9ac;\n",
              "  color: #000000;\n",
              "}\n",
              "#T_8092c_row7_col3, #T_8092c_row10_col3 {\n",
              "  background-color: #addc6f;\n",
              "  color: #000000;\n",
              "}\n",
              "#T_8092c_row8_col1 {\n",
              "  background-color: #d1ec86;\n",
              "  color: #000000;\n",
              "}\n",
              "#T_8092c_row8_col2, #T_8092c_row14_col1 {\n",
              "  background-color: #f4fab0;\n",
              "  color: #000000;\n",
              "}\n",
              "#T_8092c_row8_col3 {\n",
              "  background-color: #cbe982;\n",
              "  color: #000000;\n",
              "}\n",
              "#T_8092c_row9_col2 {\n",
              "  background-color: #f67c4a;\n",
              "  color: #f1f1f1;\n",
              "}\n",
              "#T_8092c_row10_col1, #T_8092c_row18_col2 {\n",
              "  background-color: #dff293;\n",
              "  color: #000000;\n",
              "}\n",
              "#T_8092c_row10_col2 {\n",
              "  background-color: #fdad60;\n",
              "  color: #000000;\n",
              "}\n",
              "#T_8092c_row11_col2, #T_8092c_row19_col2 {\n",
              "  background-color: #fff6b0;\n",
              "  color: #000000;\n",
              "}\n",
              "#T_8092c_row12_col1 {\n",
              "  background-color: #d3ec87;\n",
              "  color: #000000;\n",
              "}\n",
              "#T_8092c_row12_col2 {\n",
              "  background-color: #87cb67;\n",
              "  color: #000000;\n",
              "}\n",
              "#T_8092c_row12_col3 {\n",
              "  background-color: #e5f49b;\n",
              "  color: #000000;\n",
              "}\n",
              "#T_8092c_row13_col1 {\n",
              "  background-color: #fffcba;\n",
              "  color: #000000;\n",
              "}\n",
              "#T_8092c_row13_col2 {\n",
              "  background-color: #7fc866;\n",
              "  color: #000000;\n",
              "}\n",
              "#T_8092c_row15_col1, #T_8092c_row17_col1 {\n",
              "  background-color: #d7ee8a;\n",
              "  color: #000000;\n",
              "}\n",
              "#T_8092c_row15_col2 {\n",
              "  background-color: #ecf7a6;\n",
              "  color: #000000;\n",
              "}\n",
              "#T_8092c_row15_col3 {\n",
              "  background-color: #cfeb85;\n",
              "  color: #000000;\n",
              "}\n",
              "#T_8092c_row16_col1 {\n",
              "  background-color: #fede89;\n",
              "  color: #000000;\n",
              "}\n",
              "#T_8092c_row17_col2 {\n",
              "  background-color: #fff8b4;\n",
              "  color: #000000;\n",
              "}\n",
              "#T_8092c_row17_col3 {\n",
              "  background-color: #8ccd67;\n",
              "  color: #000000;\n",
              "}\n",
              "#T_8092c_row18_col1, #T_8092c_row19_col3 {\n",
              "  background-color: #d9ef8b;\n",
              "  color: #000000;\n",
              "}\n",
              "#T_8092c_row18_col3 {\n",
              "  background-color: #a7d96b;\n",
              "  color: #000000;\n",
              "}\n",
              "</style>\n",
              "<table id=\"T_8092c\" class=\"dataframe\">\n",
              "  <thead>\n",
              "    <tr>\n",
              "      <th class=\"blank level0\" >&nbsp;</th>\n",
              "      <th id=\"T_8092c_level0_col0\" class=\"col_heading level0 col0\" >content</th>\n",
              "      <th id=\"T_8092c_level0_col1\" class=\"col_heading level0 col1\" >textblob</th>\n",
              "      <th id=\"T_8092c_level0_col2\" class=\"col_heading level0 col2\" >textblob_bayes</th>\n",
              "      <th id=\"T_8092c_level0_col3\" class=\"col_heading level0 col3\" >nltk</th>\n",
              "    </tr>\n",
              "  </thead>\n",
              "  <tbody>\n",
              "    <tr>\n",
              "      <th id=\"T_8092c_level0_row0\" class=\"row_heading level0 row0\" >0</th>\n",
              "      <td id=\"T_8092c_row0_col0\" class=\"data row0 col0\" >RT @edballsmp: David Cameron deliberately misleading about his planned spending cuts - his cuts double next year, biggest cuts of any advan…</td>\n",
              "      <td id=\"T_8092c_row0_col1\" class=\"data row0 col1\" >0.000000</td>\n",
              "      <td id=\"T_8092c_row0_col2\" class=\"data row0 col2\" >0.753158</td>\n",
              "      <td id=\"T_8092c_row0_col3\" class=\"data row0 col3\" >-0.807400</td>\n",
              "    </tr>\n",
              "    <tr>\n",
              "      <th id=\"T_8092c_level0_row1\" class=\"row_heading level0 row1\" >1</th>\n",
              "      <td id=\"T_8092c_row1_col0\" class=\"data row1 col0\" >Rly sad that I had to rush off when that was the last time I would see everyone :-(</td>\n",
              "      <td id=\"T_8092c_row1_col1\" class=\"data row1 col1\" >-0.416667</td>\n",
              "      <td id=\"T_8092c_row1_col2\" class=\"data row1 col2\" >0.122669</td>\n",
              "      <td id=\"T_8092c_row1_col3\" class=\"data row1 col3\" >-0.680800</td>\n",
              "    </tr>\n",
              "    <tr>\n",
              "      <th id=\"T_8092c_level0_row2\" class=\"row_heading level0 row2\" >2</th>\n",
              "      <td id=\"T_8092c_row2_col0\" class=\"data row2 col0\" >@CathPG @PeterPrickett I can't even work out if UKIP loathe me or not! Arrived to live here as an adult but on a UK passport (though my mum)</td>\n",
              "      <td id=\"T_8092c_row2_col1\" class=\"data row2 col1\" >0.118182</td>\n",
              "      <td id=\"T_8092c_row2_col2\" class=\"data row2 col2\" >0.814830</td>\n",
              "      <td id=\"T_8092c_row2_col3\" class=\"data row2 col3\" >-0.338200</td>\n",
              "    </tr>\n",
              "    <tr>\n",
              "      <th id=\"T_8092c_level0_row3\" class=\"row_heading level0 row3\" >3</th>\n",
              "      <td id=\"T_8092c_row3_col0\" class=\"data row3 col0\" >RT @ruaidhri_seamus: @Ed_Miliband says \"no deal with SNP\" so after all #Labour spin that voting #Greens \"lets Tories in\", it turns out voti…</td>\n",
              "      <td id=\"T_8092c_row3_col1\" class=\"data row3 col1\" >0.000000</td>\n",
              "      <td id=\"T_8092c_row3_col2\" class=\"data row3 col2\" >0.816813</td>\n",
              "      <td id=\"T_8092c_row3_col3\" class=\"data row3 col3\" >-0.296000</td>\n",
              "    </tr>\n",
              "    <tr>\n",
              "      <th id=\"T_8092c_level0_row4\" class=\"row_heading level0 row4\" >4</th>\n",
              "      <td id=\"T_8092c_row4_col0\" class=\"data row4 col0\" >Jacob Zuma and Ed Miliband are living proof that looking like a genetic experiment doesn't have to stop you from entering politics. #GE2015</td>\n",
              "      <td id=\"T_8092c_row4_col1\" class=\"data row4 col1\" >0.000000</td>\n",
              "      <td id=\"T_8092c_row4_col2\" class=\"data row4 col2\" >0.815611</td>\n",
              "      <td id=\"T_8092c_row4_col3\" class=\"data row4 col3\" >0.524800</td>\n",
              "    </tr>\n",
              "    <tr>\n",
              "      <th id=\"T_8092c_level0_row5\" class=\"row_heading level0 row5\" >5</th>\n",
              "      <td id=\"T_8092c_row5_col0\" class=\"data row5 col0\" >RT @peter27afcb: Reminder that Sol Campbell's only supporting the Tories, and interested in politics, because he doesn't want tax on one of…</td>\n",
              "      <td id=\"T_8092c_row5_col1\" class=\"data row5 col1\" >0.166667</td>\n",
              "      <td id=\"T_8092c_row5_col2\" class=\"data row5 col2\" >0.968848</td>\n",
              "      <td id=\"T_8092c_row5_col3\" class=\"data row5 col3\" >0.657300</td>\n",
              "    </tr>\n",
              "    <tr>\n",
              "      <th id=\"T_8092c_level0_row6\" class=\"row_heading level0 row6\" >6</th>\n",
              "      <td id=\"T_8092c_row6_col0\" class=\"data row6 col0\" >RT @LouiseMensch: I don't care that Ed Miliband physically stumbled, I care that he stumbled on immigration &amp; our economy #bbcqt</td>\n",
              "      <td id=\"T_8092c_row6_col1\" class=\"data row6 col1\" >0.000000</td>\n",
              "      <td id=\"T_8092c_row6_col2\" class=\"data row6 col2\" >0.090188</td>\n",
              "      <td id=\"T_8092c_row6_col3\" class=\"data row6 col3\" >-0.643500</td>\n",
              "    </tr>\n",
              "    <tr>\n",
              "      <th id=\"T_8092c_level0_row7\" class=\"row_heading level0 row7\" >7</th>\n",
              "      <td id=\"T_8092c_row7_col0\" class=\"data row7 col0\" >Could be big… “@IsabelOakeshott: V good story. I always suspected it but hard to prove. Congrats http//t.co/7wxgAkwLhi”</td>\n",
              "      <td id=\"T_8092c_row7_col1\" class=\"data row7 col1\" >0.204167</td>\n",
              "      <td id=\"T_8092c_row7_col2\" class=\"data row7 col2\" >0.528113</td>\n",
              "      <td id=\"T_8092c_row7_col3\" class=\"data row7 col3\" >0.670500</td>\n",
              "    </tr>\n",
              "    <tr>\n",
              "      <th id=\"T_8092c_level0_row8\" class=\"row_heading level0 row8\" >8</th>\n",
              "      <td id=\"T_8092c_row8_col0\" class=\"data row8 col0\" >RT @DTJ95: @UKIP Your candidate for Woking is very good at public speaking^^</td>\n",
              "      <td id=\"T_8092c_row8_col1\" class=\"data row8 col1\" >0.455000</td>\n",
              "      <td id=\"T_8092c_row8_col2\" class=\"data row8 col2\" >0.169737</td>\n",
              "      <td id=\"T_8092c_row8_col3\" class=\"data row8 col3\" >0.492700</td>\n",
              "    </tr>\n",
              "    <tr>\n",
              "      <th id=\"T_8092c_level0_row9\" class=\"row_heading level0 row9\" >9</th>\n",
              "      <td id=\"T_8092c_row9_col0\" class=\"data row9 col0\" >ah bollocks, forgot about Farage's ting</td>\n",
              "      <td id=\"T_8092c_row9_col1\" class=\"data row9 col1\" >0.000000</td>\n",
              "      <td id=\"T_8092c_row9_col2\" class=\"data row9 col2\" >-0.798233</td>\n",
              "      <td id=\"T_8092c_row9_col3\" class=\"data row9 col3\" >0.000000</td>\n",
              "    </tr>\n",
              "    <tr>\n",
              "      <th id=\"T_8092c_level0_row10\" class=\"row_heading level0 row10\" >10</th>\n",
              "      <td id=\"T_8092c_row10_col0\" class=\"data row10 col0\" >The real measure of a mans wealth is what he has invested in eternity. :-)</td>\n",
              "      <td id=\"T_8092c_row10_col1\" class=\"data row10 col1\" >0.350000</td>\n",
              "      <td id=\"T_8092c_row10_col2\" class=\"data row10 col2\" >-0.559093</td>\n",
              "      <td id=\"T_8092c_row10_col3\" class=\"data row10 col3\" >0.670500</td>\n",
              "    </tr>\n",
              "    <tr>\n",
              "      <th id=\"T_8092c_level0_row11\" class=\"row_heading level0 row11\" >11</th>\n",
              "      <td id=\"T_8092c_row11_col0\" class=\"data row11 col0\" >RT @jakepainter2: Farage absolutely smashed it #VoteUKIP2015 #AskNigelFarage</td>\n",
              "      <td id=\"T_8092c_row11_col1\" class=\"data row11 col1\" >0.200000</td>\n",
              "      <td id=\"T_8092c_row11_col2\" class=\"data row11 col2\" >-0.011976</td>\n",
              "      <td id=\"T_8092c_row11_col3\" class=\"data row11 col3\" >0.000000</td>\n",
              "    </tr>\n",
              "    <tr>\n",
              "      <th id=\"T_8092c_level0_row12\" class=\"row_heading level0 row12\" >12</th>\n",
              "      <td id=\"T_8092c_row12_col0\" class=\"data row12 col0\" >RT @earthygirl01: #bbbqt What a strong and commanding performance from Ed Miliband tonight Not like #ChickenDave @CCHQPress #HellYesEd http…</td>\n",
              "      <td id=\"T_8092c_row12_col1\" class=\"data row12 col1\" >0.433333</td>\n",
              "      <td id=\"T_8092c_row12_col2\" class=\"data row12 col2\" >0.867939</td>\n",
              "      <td id=\"T_8092c_row12_col3\" class=\"data row12 col3\" >0.293700</td>\n",
              "    </tr>\n",
              "    <tr>\n",
              "      <th id=\"T_8092c_level0_row13\" class=\"row_heading level0 row13\" >13</th>\n",
              "      <td id=\"T_8092c_row13_col0\" class=\"data row13 col0\" >RT @wee_things: Ed Milliband message to Scotland so far ;\n",
              "\n",
              "You WILL NOT get 2nd referendum\n",
              "You WILL NOT get voice in westminster\n",
              "\n",
              "Thats UK …</td>\n",
              "      <td id=\"T_8092c_row13_col1\" class=\"data row13 col1\" >0.050000</td>\n",
              "      <td id=\"T_8092c_row13_col2\" class=\"data row13 col2\" >0.910640</td>\n",
              "      <td id=\"T_8092c_row13_col3\" class=\"data row13 col3\" >0.000000</td>\n",
              "    </tr>\n",
              "    <tr>\n",
              "      <th id=\"T_8092c_level0_row14\" class=\"row_heading level0 row14\" >14</th>\n",
              "      <td id=\"T_8092c_row14_col0\" class=\"data row14 col0\" >RT @HumzaYousaf: That sound you hear is the final nail hammered into New Labour coffin as Ed Miliband says he'd rather let Tories in than w…</td>\n",
              "      <td id=\"T_8092c_row14_col1\" class=\"data row14 col1\" >0.178788</td>\n",
              "      <td id=\"T_8092c_row14_col2\" class=\"data row14 col2\" >0.751271</td>\n",
              "      <td id=\"T_8092c_row14_col3\" class=\"data row14 col3\" >0.000000</td>\n",
              "    </tr>\n",
              "    <tr>\n",
              "      <th id=\"T_8092c_level0_row15\" class=\"row_heading level0 row15\" >15</th>\n",
              "      <td id=\"T_8092c_row15_col0\" class=\"data row15 col0\" >@melfoster666 That's not true.\n",
              "I can quit whenever I want to.\n",
              ":D</td>\n",
              "      <td id=\"T_8092c_row15_col1\" class=\"data row15 col1\" >0.412500</td>\n",
              "      <td id=\"T_8092c_row15_col2\" class=\"data row15 col2\" >0.242307</td>\n",
              "      <td id=\"T_8092c_row15_col3\" class=\"data row15 col3\" >0.459000</td>\n",
              "    </tr>\n",
              "    <tr>\n",
              "      <th id=\"T_8092c_level0_row16\" class=\"row_heading level0 row16\" >16</th>\n",
              "      <td id=\"T_8092c_row16_col0\" class=\"data row16 col0\" >Nigel Farage: #UK is \"low-wage capital of Europe &amp; ordinary workers have paid the price\" #UKIP\n",
              "http//t.co/YVzd3J8fPk</td>\n",
              "      <td id=\"T_8092c_row16_col1\" class=\"data row16 col1\" >-0.250000</td>\n",
              "      <td id=\"T_8092c_row16_col2\" class=\"data row16 col2\" >0.967534</td>\n",
              "      <td id=\"T_8092c_row16_col3\" class=\"data row16 col3\" >0.000000</td>\n",
              "    </tr>\n",
              "    <tr>\n",
              "      <th id=\"T_8092c_level0_row17\" class=\"row_heading level0 row17\" >17</th>\n",
              "      <td id=\"T_8092c_row17_col0\" class=\"data row17 col0\" >@Wilma2207fWilma haha! Thank you! :) 🍰</td>\n",
              "      <td id=\"T_8092c_row17_col1\" class=\"data row17 col1\" >0.406250</td>\n",
              "      <td id=\"T_8092c_row17_col2\" class=\"data row17 col2\" >0.012179</td>\n",
              "      <td id=\"T_8092c_row17_col3\" class=\"data row17 col3\" >0.843600</td>\n",
              "    </tr>\n",
              "    <tr>\n",
              "      <th id=\"T_8092c_level0_row18\" class=\"row_heading level0 row18\" >18</th>\n",
              "      <td id=\"T_8092c_row18_col0\" class=\"data row18 col0\" >@MaxivisionEye Many thanks to all :)</td>\n",
              "      <td id=\"T_8092c_row18_col1\" class=\"data row18 col1\" >0.400000</td>\n",
              "      <td id=\"T_8092c_row18_col2\" class=\"data row18 col2\" >0.344862</td>\n",
              "      <td id=\"T_8092c_row18_col3\" class=\"data row18 col3\" >0.709600</td>\n",
              "    </tr>\n",
              "    <tr>\n",
              "      <th id=\"T_8092c_level0_row19\" class=\"row_heading level0 row19\" >19</th>\n",
              "      <td id=\"T_8092c_row19_col0\" class=\"data row19 col0\" >RT @utopianpath: This might help you decide whether or not to vote for the Tories http//t.co/Myc1ofPeG3</td>\n",
              "      <td id=\"T_8092c_row19_col1\" class=\"data row19 col1\" >0.000000</td>\n",
              "      <td id=\"T_8092c_row19_col2\" class=\"data row19 col2\" >-0.009793</td>\n",
              "      <td id=\"T_8092c_row19_col3\" class=\"data row19 col3\" >0.401900</td>\n",
              "    </tr>\n",
              "  </tbody>\n",
              "</table>\n"
            ]
          },
          "metadata": {},
          "execution_count": 25
        }
      ]
    }
  ]
}